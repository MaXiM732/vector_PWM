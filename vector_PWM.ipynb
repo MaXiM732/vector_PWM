{
 "cells": [
  {
   "cell_type": "code",
   "execution_count": null,
   "id": "211ec7e6",
   "metadata": {},
   "outputs": [],
   "source": [
    "import numpy as np\n",
    "import matplotlib.pyplot as plt\n"
   ]
  },
  {
   "cell_type": "code",
   "execution_count": null,
   "id": "b60ab0d2",
   "metadata": {},
   "outputs": [
    {
     "name": "stdout",
     "output_type": "stream",
     "text": [
      "[ 0.66666667  0.33333333 -0.33333333 -0.66666667 -0.33333333  0.33333333\n",
      "  0.        ]\n"
     ]
    }
   ],
   "source": [
    "SWITCHES = np.array([[1,0,0],[1,1,0],[0,1,0],[0,1,1],[0,0,1],[1,0,1],[1,1,1]])\n",
    "\n",
    "A_amp = []\n",
    "B_amp = []\n",
    "C_amp = []\n",
    "for i in range(7):\n",
    "    A_amp = np.append(A_amp, SWITCHES[i,0]*2/3-SWITCHES[i,1]*1/3-SWITCHES[i,2]*1/3)\n",
    "    B_amp = np.append(B_amp, SWITCHES[i,0]*1/3-SWITCHES[i,1]*2/3-SWITCHES[i,2]*1/3)\n",
    "    C_amp = np.append(C_amp, SWITCHES[i,0]*1/3-SWITCHES[i,1]*1/3-SWITCHES[i,2]*2/3)\n"
   ]
  },
  {
   "cell_type": "code",
   "execution_count": 18,
   "id": "e74680ee",
   "metadata": {},
   "outputs": [
    {
     "name": "stdout",
     "output_type": "stream",
     "text": [
      "[0.         0.26179939 0.52359878 0.78539816 1.04719755]\n",
      "[6.92820323e-01 5.65685425e-01 4.00000000e-01 2.07055236e-01\n",
      " 7.69185075e-17 6.92820323e-01 5.65685425e-01 4.00000000e-01\n",
      " 2.07055236e-01 7.69185075e-17 6.92820323e-01 5.65685425e-01\n",
      " 4.00000000e-01 2.07055236e-01 7.69185075e-17 6.92820323e-01\n",
      " 5.65685425e-01 4.00000000e-01 2.07055236e-01 7.69185075e-17\n",
      " 6.92820323e-01 5.65685425e-01 4.00000000e-01 2.07055236e-01\n",
      " 7.69185075e-17 6.92820323e-01 5.65685425e-01 4.00000000e-01\n",
      " 2.07055236e-01 7.69185075e-17]\n"
     ]
    }
   ],
   "source": [
    "M = 0.8\n",
    "T = 1/24\n",
    "fi = 2*np.pi*T\n",
    "\n",
    "teta_range = np.arange(0,np.pi/3+fi,fi)\n",
    "\n",
    "print(teta_range)\n",
    "\n",
    "tau_N1 = []\n",
    "tau_N2 = []\n",
    "tau_N0 = []\n",
    "for  i  in range(6):\n",
    "    for teta in teta_range:\n",
    "        tau_N1 = np.append(tau_N1, M * np.sqrt(3)/2 * (np.cos(teta)-1/np.sqrt(3)*np.sin(teta)))\n",
    "        tau_N2 = np.append(tau_N2, M * np.sin (teta))\n",
    "        tau_N0 = np.append(tau_N0, 1-tau_N1[i]-tau_N1[i])\n",
    "\n",
    "print(tau_N1)"
   ]
  },
  {
   "cell_type": "code",
   "execution_count": null,
   "id": "ac4dce5a",
   "metadata": {},
   "outputs": [
    {
     "ename": "NameError",
     "evalue": "name 'np' is not defined",
     "output_type": "error",
     "traceback": [
      "\u001b[31m---------------------------------------------------------------------------\u001b[39m",
      "\u001b[31mNameError\u001b[39m                                 Traceback (most recent call last)",
      "\u001b[36mCell\u001b[39m\u001b[36m \u001b[39m\u001b[32mIn[4]\u001b[39m\u001b[32m, line 1\u001b[39m\n\u001b[32m----> \u001b[39m\u001b[32m1\u001b[39m angle = \u001b[43mnp\u001b[49m.arange(\u001b[32m0\u001b[39m, np.pi+\u001b[32m1\u001b[39m,  np.pi/\u001b[32m12\u001b[39m)\n\u001b[32m      2\u001b[39m M = \u001b[32m0.7\u001b[39m\n\u001b[32m      4\u001b[39m tn1 = np.array([\u001b[32m0.61\u001b[39m, \u001b[32m0.49\u001b[39m, \u001b[32m0.35\u001b[39m, \u001b[32m0.18\u001b[39m, \u001b[32m0.00\u001b[39m, \u001b[32m0.49\u001b[39m, \u001b[32m0.35\u001b[39m, \u001b[32m0.18\u001b[39m, \u001b[32m0.00\u001b[39m, \u001b[32m0.49\u001b[39m, \u001b[32m0.35\u001b[39m, \u001b[32m0.18\u001b[39m])\n",
      "\u001b[31mNameError\u001b[39m: name 'np' is not defined"
     ]
    }
   ],
   "source": [
    "angle = np.arange(0, np.pi+1,  np.pi/12)\n",
    "M = 0.7\n",
    "\n",
    "tn1 = np.array([0.61, 0.49, 0.35, 0.18, 0.00, 0.49, 0.35, 0.18, 0.00, 0.49, 0.35, 0.18])\n",
    "tn2 = np.array([0.00, 0.18, 0.35, 0.49, 0.61, 0.18, 0.35, 0.49, 0.61, 0.18, 0.35, 0.49])\n",
    "tn0 = 1-tn1-tn2\n",
    "\n",
    "time_start = []\n",
    "\n",
    "for i in  np.arange(0,12,1):\n",
    "    time_start = np.append(time_start, tn1[i])\n",
    "    time_start = np.append(time_start, tn2[i])\n",
    "    time_start = np.append(time_start, tn0[i])\n",
    "\n",
    "VA = []\n",
    "VB = []\n",
    "\n",
    "for i in np.arange(0,12,1):\n",
    "    if i < 5:\n",
    "        VA  = np.append(VA,2/3)\n",
    "        VA  = np.append(VA,1/3)\n",
    "        VA  = np.append(VA,0)\n",
    "    elif 5<=i<9:\n",
    "        VA  = np.append(VA,1/3)\n",
    "        VA  = np.append(VA,-1/3)\n",
    "        VA  = np.append(VA,0)\n",
    "    else:\n",
    "        VA  = np.append(VA,-1/3)\n",
    "        VA  = np.append(VA,-2/3)\n",
    "        VA  = np.append(VA,0)\n",
    "\n",
    "for i in np.arange(0,12,1):\n",
    "    if i < 5:\n",
    "        VB  = np.append(VB,-1/3)\n",
    "        VB  = np.append(VB,1/3)\n",
    "        VB  = np.append(VB,0)\n",
    "    elif 5<=i<9:\n",
    "        VB  = np.append(VB,1/3)\n",
    "        VB  = np.append(VB,2/3)\n",
    "        VB  = np.append(VB,0)\n",
    "    else:\n",
    "        VB  = np.append(VB,2/3)\n",
    "        VB  = np.append(VB,1/3)\n",
    "        VB  = np.append(VB,0)\n",
    "\n",
    "AB = VB-VA\n",
    "x_starts = np.cumsum([0] + time_start[:-1])\n",
    "x_starts = np.insert(x_starts,0,0)\n",
    "\n",
    "fig, axes = plt.subplots(3, 1, figsize=(10, 6))  # 2 строки, 1 столбец\n",
    "\n",
    "axes[0].step(x_starts, VA, where='post', linewidth=2, color='blue')\n",
    "axes[0].set_title('phase A')\n",
    "axes[0].grid(True)\n",
    "\n",
    "axes[1].step(x_starts, VB, where='post', linewidth=2, color='red')\n",
    "axes[1].set_title('phase B')\n",
    "axes[1].grid(True)\n",
    "\n",
    "axes[2].step(x_starts, AB, where='post', linewidth=2, color='green')\n",
    "axes[2].set_title('B-A')\n",
    "axes[2].grid(True)\n",
    "\n",
    "plt.tight_layout()  # автоматически расставит графики без наложения\n",
    "plt.show()"
   ]
  }
 ],
 "metadata": {
  "kernelspec": {
   "display_name": "venv",
   "language": "python",
   "name": "python3"
  },
  "language_info": {
   "codemirror_mode": {
    "name": "ipython",
    "version": 3
   },
   "file_extension": ".py",
   "mimetype": "text/x-python",
   "name": "python",
   "nbconvert_exporter": "python",
   "pygments_lexer": "ipython3",
   "version": "3.13.7"
  }
 },
 "nbformat": 4,
 "nbformat_minor": 5
}
