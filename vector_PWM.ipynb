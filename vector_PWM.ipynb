{
 "cells": [
  {
   "cell_type": "code",
   "execution_count": 68,
   "id": "211ec7e6",
   "metadata": {},
   "outputs": [],
   "source": [
    "import numpy as np\n",
    "import matplotlib.pyplot as plt\n"
   ]
  },
  {
   "cell_type": "code",
   "execution_count": null,
   "id": "b60ab0d2",
   "metadata": {},
   "outputs": [
    {
     "name": "stdout",
     "output_type": "stream",
     "text": [
      "72\n",
      "[ 0.66666667  0.33333333  0.          0.66666667  0.33333333  0.\n",
      "  0.66666667  0.33333333  0.          0.66666667  0.33333333  0.\n",
      "  0.33333333 -0.33333333  0.          0.33333333 -0.33333333  0.\n",
      "  0.33333333 -0.33333333  0.          0.33333333 -0.33333333  0.\n",
      " -0.33333333 -0.66666667  0.         -0.33333333 -0.66666667  0.\n",
      " -0.33333333 -0.66666667  0.         -0.33333333 -0.66666667  0.\n",
      " -0.66666667 -0.33333333  0.         -0.66666667 -0.33333333  0.\n",
      " -0.66666667 -0.33333333  0.         -0.66666667 -0.33333333  0.\n",
      " -0.33333333  0.33333333  0.         -0.33333333  0.33333333  0.\n",
      " -0.33333333  0.33333333  0.         -0.33333333  0.33333333  0.\n",
      "  0.33333333  0.66666667  0.          0.33333333  0.66666667  0.\n",
      "  0.33333333  0.66666667  0.          0.33333333  0.66666667  0.        ]\n"
     ]
    }
   ],
   "source": [
    "SWITCHES = np.array([[1,0,0],[1,1,0],[0,1,0],[0,1,1],[0,0,1],[1,0,1],[1,0,0]])\n",
    "\n",
    "A_amp = []\n",
    "B_amp = []\n",
    "C_amp = []\n",
    "for i in range(6):\n",
    "    for _ in range(4):\n",
    "        A_amp = np.append(A_amp, SWITCHES[i,0]*2/3-SWITCHES[i,1]*1/3-SWITCHES[i,2]*1/3)\n",
    "        A_amp = np.append(A_amp, SWITCHES[i+1,0]*2/3-SWITCHES[i+1,1]*1/3-SWITCHES[i+1,2]*1/3)\n",
    "        A_amp = np.append(A_amp, 0)\n",
    "        B_amp = np.append(B_amp, SWITCHES[i,0]*1/3-SWITCHES[i,1]*2/3-SWITCHES[i,2]*1/3)\n",
    "        B_amp = np.append(B_amp, SWITCHES[i+1,0]*1/3-SWITCHES[i+1,1]*2/3-SWITCHES[i+1,2]*1/3)\n",
    "        B_amp = np.append(B_amp, 0)\n",
    "        C_amp = np.append(C_amp, SWITCHES[i,0]*1/3-SWITCHES[i,1]*1/3-SWITCHES[i,2]*2/3)\n",
    "        C_amp = np.append(C_amp, SWITCHES[i+1,0]*1/3-SWITCHES[i+1,1]*1/3-SWITCHES[i+1,2]*2/3)\n",
    "        C_amp = np.append(C_amp, 0)\n",
    "\n",
    "print(len(A_amp))\n",
    "print(A_amp)"
   ]
  },
  {
   "cell_type": "code",
   "execution_count": 70,
   "id": "e74680ee",
   "metadata": {},
   "outputs": [
    {
     "name": "stdout",
     "output_type": "stream",
     "text": [
      "[0.         0.26179939 0.52359878 0.78539816]\n",
      "[0.69282032 0.         0.30717968 0.56568542 0.20705524 0.22725934\n",
      " 0.4        0.4        0.2        0.20705524 0.56568542 0.22725934\n",
      " 0.69282032 0.         0.30717968 0.56568542 0.20705524 0.22725934\n",
      " 0.4        0.4        0.2        0.20705524 0.56568542 0.22725934\n",
      " 0.69282032 0.         0.30717968 0.56568542 0.20705524 0.22725934\n",
      " 0.4        0.4        0.2        0.20705524 0.56568542 0.22725934\n",
      " 0.69282032 0.         0.30717968 0.56568542 0.20705524 0.22725934\n",
      " 0.4        0.4        0.2        0.20705524 0.56568542 0.22725934\n",
      " 0.69282032 0.         0.30717968 0.56568542 0.20705524 0.22725934\n",
      " 0.4        0.4        0.2        0.20705524 0.56568542 0.22725934\n",
      " 0.69282032 0.         0.30717968 0.56568542 0.20705524 0.22725934\n",
      " 0.4        0.4        0.2        0.20705524 0.56568542 0.22725934]\n"
     ]
    }
   ],
   "source": [
    "M = 0.8\n",
    "T = 1/24\n",
    "fi = 2*np.pi*T\n",
    "\n",
    "teta_range = np.arange(0,np.pi/3,fi)\n",
    "\n",
    "print(teta_range)\n",
    "\n",
    "tau_N1 = []\n",
    "tau_N2 = []\n",
    "tau_N0 = []\n",
    "time = []\n",
    "for  i  in range(6):\n",
    "    for teta in teta_range:\n",
    "        time = np.append(time,M * np.sqrt(3)/2 * (np.cos(teta)-1/np.sqrt(3)*np.sin(teta)))\n",
    "        time = np.append(time,M * np.sin (teta))\n",
    "        time = np.append(time,1-(M * np.sqrt(3)/2 * (np.cos(teta)-1/np.sqrt(3)*np.sin(teta)))-(M * np.sin (teta)))\n",
    "\n",
    "print(time)"
   ]
  },
  {
   "cell_type": "code",
   "execution_count": 71,
   "id": "ac4dce5a",
   "metadata": {},
   "outputs": [
    {
     "data": {
      "image/png": "[encoded data removed]",
      "text/plain": [
       "<Figure size 1000x600 with 3 Axes>"
      ]
     },
     "metadata": {},
     "output_type": "display_data"
    }
   ],
   "source": [
    "angle = np.arange(0, np.pi+1,  np.pi/12)\n",
    "M = 0.7\n",
    "\n",
    "tn1 = np.array([0.61, 0.49, 0.35, 0.18, 0.00, 0.49, 0.35, 0.18, 0.00, 0.49, 0.35, 0.18])\n",
    "tn2 = np.array([0.00, 0.18, 0.35, 0.49, 0.61, 0.18, 0.35, 0.49, 0.61, 0.18, 0.35, 0.49])\n",
    "tn0 = 1-tn1-tn2\n",
    "\n",
    "time_start = []\n",
    "\n",
    "\n",
    "\n",
    "VA = []\n",
    "VB = []\n",
    "\n",
    "for i in np.arange(0,12,1):\n",
    "    if i < 5:\n",
    "        VA  = np.append(VA,2/3)\n",
    "        VA  = np.append(VA,1/3)\n",
    "        VA  = np.append(VA,0)\n",
    "    elif 5<=i<9:\n",
    "        VA  = np.append(VA,1/3)\n",
    "        VA  = np.append(VA,-1/3)\n",
    "        VA  = np.append(VA,0)\n",
    "    else:\n",
    "        VA  = np.append(VA,-1/3)\n",
    "        VA  = np.append(VA,-2/3)\n",
    "        VA  = np.append(VA,0)\n",
    "\n",
    "for i in np.arange(0,12,1):\n",
    "    if i < 5:\n",
    "        VB  = np.append(VB,-1/3)\n",
    "        VB  = np.append(VB,1/3)\n",
    "        VB  = np.append(VB,0)\n",
    "    elif 5<=i<9:\n",
    "        VB  = np.append(VB,1/3)\n",
    "        VB  = np.append(VB,2/3)\n",
    "        VB  = np.append(VB,0)\n",
    "    else:\n",
    "        VB  = np.append(VB,2/3)\n",
    "        VB  = np.append(VB,1/3)\n",
    "        VB  = np.append(VB,0)\n",
    "\n",
    "AB = VB-VA\n",
    "x_starts = np.cumsum([0] + time[:-1])\n",
    "x_starts = np.insert(x_starts,0,0)\n",
    "\n",
    "fig, axes = plt.subplots(3, 1, figsize=(10, 6))  # 2 строки, 1 столбец\n",
    "\n",
    "axes[0].step(x_starts, A_amp, where='post', linewidth=2, color='blue')\n",
    "axes[0].set_title('phase A')\n",
    "axes[0].grid(True)\n",
    "\n",
    "axes[1].step(x_starts, B_amp, where='post', linewidth=2, color='red')\n",
    "axes[1].set_title('phase B')\n",
    "axes[1].grid(True)\n",
    "\n",
    "axes[2].step(x_starts, C_amp, where='post', linewidth=2, color='green')\n",
    "axes[2].set_title('B-A')\n",
    "axes[2].grid(True)\n",
    "\n",
    "plt.tight_layout()  # автоматически расставит графики без наложения\n",
    "plt.show()"
   ]
  }
 ],
 "metadata": {
  "kernelspec": {
   "display_name": "Python 3",
   "language": "python",
   "name": "python3"
  },
  "language_info": {
   "codemirror_mode": {
    "name": "ipython",
    "version": 3
   },
   "file_extension": ".py",
   "mimetype": "text/x-python",
   "name": "python",
   "nbconvert_exporter": "python",
   "pygments_lexer": "ipython3",
   "version": "3.13.2"
  }
 },
 "nbformat": 4,
 "nbformat_minor": 5
}
